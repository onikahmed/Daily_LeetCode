{
 "cells": [
  {
   "cell_type": "markdown",
   "id": "5075dfc7",
   "metadata": {},
   "source": [
    "## 1. Two Sum"
   ]
  },
  {
   "cell_type": "code",
   "execution_count": 1,
   "id": "c7abf0de",
   "metadata": {},
   "outputs": [
    {
     "name": "stdout",
     "output_type": "stream",
     "text": [
      "[0, 1]\n"
     ]
    }
   ],
   "source": [
    "from typing import List\n",
    "class Solution:\n",
    "    def twoSum(self, nums: List[int], target: int) -> List[int]:\n",
    "        h={}\n",
    "        for index, nums in enumerate(nums):\n",
    "            complement = target-nums\n",
    "            if complement in h:\n",
    "                return[h[complement], index]\n",
    "            h[nums] = index\n",
    "solution=Solution()\n",
    "print(solution.twoSum([2, 7, 11, 15], 9)) "
   ]
  }
 ],
 "metadata": {
  "kernelspec": {
   "display_name": "Python 3",
   "language": "python",
   "name": "python3"
  },
  "language_info": {
   "codemirror_mode": {
    "name": "ipython",
    "version": 3
   },
   "file_extension": ".py",
   "mimetype": "text/x-python",
   "name": "python",
   "nbconvert_exporter": "python",
   "pygments_lexer": "ipython3",
   "version": "3.9.6"
  }
 },
 "nbformat": 4,
 "nbformat_minor": 5
}
