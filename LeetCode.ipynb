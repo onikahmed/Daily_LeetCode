{
 "cells": [
  {
   "cell_type": "markdown",
   "id": "5075dfc7",
   "metadata": {},
   "source": [
    "## 1. Two Sum"
   ]
  },
  {
   "cell_type": "code",
   "execution_count": 1,
   "id": "c7abf0de",
   "metadata": {},
   "outputs": [
    {
     "name": "stdout",
     "output_type": "stream",
     "text": [
      "[0, 1]\n"
     ]
    }
   ],
   "source": [
    "from typing import List\n",
    "class Solution:\n",
    "    def twoSum(self, nums: List[int], target: int) -> List[int]:\n",
    "        h={}\n",
    "        for index, nums in enumerate(nums):\n",
    "            complement = target-nums\n",
    "            if complement in h:\n",
    "                return[h[complement], index]\n",
    "            h[nums] = index\n",
    "solution=Solution()\n",
    "print(solution.twoSum([2, 7, 11, 15], 9)) "
   ]
  },
  {
   "cell_type": "markdown",
   "id": "9f13b5c6",
   "metadata": {},
   "source": [
    "## 9. Palindrome Number\n"
   ]
  },
  {
   "cell_type": "code",
   "execution_count": 10,
   "id": "d69afba4",
   "metadata": {},
   "outputs": [
    {
     "name": "stdout",
     "output_type": "stream",
     "text": [
      "False\n"
     ]
    }
   ],
   "source": [
    "class Solution:\n",
    "    def isPalindrome(self, x: int) -> bool:\n",
    "        if x<0:\n",
    "            return False\n",
    "        return str(x) == str(x)[::-1]\n",
    "solution=Solution()\n",
    "print(solution.isPalindrome(111112))"
   ]
  },
  {
   "cell_type": "markdown",
   "id": "6a42f341",
   "metadata": {},
   "source": [
    "## 412. Fizz Buzz\n"
   ]
  },
  {
   "cell_type": "code",
   "execution_count": 18,
   "id": "ac705ef6",
   "metadata": {},
   "outputs": [
    {
     "name": "stdout",
     "output_type": "stream",
     "text": [
      "['1', '2', 'Fizz', '4', 'Buzz', 'Fizz', '7', '8', 'Fizz', 'Buzz', '11', 'Fizz', '13', '14', 'FizzBuzz']\n"
     ]
    }
   ],
   "source": [
    "from typing import List\n",
    "class Solution:\n",
    "    def fizzBuzz(self, n: int) -> List[str]:\n",
    "        ans=[]\n",
    "        for i in range(1,n+1):\n",
    "            if i%3==0 and i%5==0:\n",
    "                ans.append(\"FizzBuzz\")\n",
    "            elif i%3==0:\n",
    "                ans.append(\"Fizz\")\n",
    "            elif i%5==0:\n",
    "                ans.append(\"Buzz\")\n",
    "            else:\n",
    "                ans.append(str(i))\n",
    "        return ans\n",
    "solution=Solution()\n",
    "print(solution.fizzBuzz(15))"
   ]
  },
  {
   "cell_type": "markdown",
   "id": "d8b5e173",
   "metadata": {},
   "source": [
    "## 58. Length of Last Word"
   ]
  },
  {
   "cell_type": "code",
   "execution_count": 17,
   "id": "f9395b52",
   "metadata": {},
   "outputs": [
    {
     "name": "stdout",
     "output_type": "stream",
     "text": [
      "5\n"
     ]
    }
   ],
   "source": [
    "class Solution:\n",
    "    def lengthOfLastWord(self, s: str) -> int:\n",
    "        last_word=s.split()\n",
    "        if not last_word:\n",
    "            return 0\n",
    "        return len(last_word[-1])\n",
    "solution=Solution()\n",
    "print(solution.lengthOfLastWord(\"Hello World\"))"
   ]
  }
 ],
 "metadata": {
  "kernelspec": {
   "display_name": "Python 3",
   "language": "python",
   "name": "python3"
  },
  "language_info": {
   "codemirror_mode": {
    "name": "ipython",
    "version": 3
   },
   "file_extension": ".py",
   "mimetype": "text/x-python",
   "name": "python",
   "nbconvert_exporter": "python",
   "pygments_lexer": "ipython3",
   "version": "3.9.6"
  }
 },
 "nbformat": 4,
 "nbformat_minor": 5
}
