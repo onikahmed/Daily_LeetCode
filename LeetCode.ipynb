{
 "cells": [
  {
   "cell_type": "markdown",
   "id": "5075dfc7",
   "metadata": {},
   "source": [
    "## 1. Two Sum"
   ]
  },
  {
   "cell_type": "code",
   "execution_count": 1,
   "id": "c7abf0de",
   "metadata": {},
   "outputs": [
    {
     "name": "stdout",
     "output_type": "stream",
     "text": [
      "[0, 1]\n"
     ]
    }
   ],
   "source": [
    "from typing import List\n",
    "class Solution:\n",
    "    def twoSum(self, nums: List[int], target: int) -> List[int]:\n",
    "        h={}\n",
    "        for index, nums in enumerate(nums):\n",
    "            complement = target-nums\n",
    "            if complement in h:\n",
    "                return[h[complement], index]\n",
    "            h[nums] = index\n",
    "solution=Solution()\n",
    "print(solution.twoSum([2, 7, 11, 15], 9)) "
   ]
  },
  {
   "cell_type": "markdown",
   "id": "9f13b5c6",
   "metadata": {},
   "source": [
    "## 9. Palindrome Number\n"
   ]
  },
  {
   "cell_type": "code",
   "execution_count": 10,
   "id": "d69afba4",
   "metadata": {},
   "outputs": [
    {
     "name": "stdout",
     "output_type": "stream",
     "text": [
      "False\n"
     ]
    }
   ],
   "source": [
    "class Solution:\n",
    "    def isPalindrome(self, x: int) -> bool:\n",
    "        if x<0:\n",
    "            return False\n",
    "        return str(x) == str(x)[::-1]\n",
    "solution=Solution()\n",
    "print(solution.isPalindrome(111112))"
   ]
  },
  {
   "cell_type": "markdown",
   "id": "6a42f341",
   "metadata": {},
   "source": [
    "## 412. Fizz Buzz\n"
   ]
  },
  {
   "cell_type": "code",
   "execution_count": 18,
   "id": "ac705ef6",
   "metadata": {},
   "outputs": [
    {
     "name": "stdout",
     "output_type": "stream",
     "text": [
      "['1', '2', 'Fizz', '4', 'Buzz', 'Fizz', '7', '8', 'Fizz', 'Buzz', '11', 'Fizz', '13', '14', 'FizzBuzz']\n"
     ]
    }
   ],
   "source": [
    "from typing import List\n",
    "class Solution:\n",
    "    def fizzBuzz(self, n: int) -> List[str]:\n",
    "        ans=[]\n",
    "        for i in range(1,n+1):\n",
    "            if i%3==0 and i%5==0:\n",
    "                ans.append(\"FizzBuzz\")\n",
    "            elif i%3==0:\n",
    "                ans.append(\"Fizz\")\n",
    "            elif i%5==0:\n",
    "                ans.append(\"Buzz\")\n",
    "            else:\n",
    "                ans.append(str(i))\n",
    "        return ans\n",
    "solution=Solution()\n",
    "print(solution.fizzBuzz(15))"
   ]
  },
  {
   "cell_type": "markdown",
   "id": "d8b5e173",
   "metadata": {},
   "source": [
    "## 58. Length of Last Word"
   ]
  },
  {
   "cell_type": "code",
   "execution_count": 17,
   "id": "f9395b52",
   "metadata": {},
   "outputs": [
    {
     "name": "stdout",
     "output_type": "stream",
     "text": [
      "5\n"
     ]
    }
   ],
   "source": [
    "class Solution:\n",
    "    def lengthOfLastWord(self, s: str) -> int:\n",
    "        last_word=s.split()\n",
    "        if not last_word:\n",
    "            return 0\n",
    "        return len(last_word[-1])\n",
    "solution=Solution()\n",
    "print(solution.lengthOfLastWord(\"Hello World\"))"
   ]
  },
  {
   "cell_type": "markdown",
   "id": "844aa7eb",
   "metadata": {},
   "source": [
    "## 415. Add Strings"
   ]
  },
  {
   "cell_type": "code",
   "execution_count": null,
   "id": "20d6c087",
   "metadata": {},
   "outputs": [
    {
     "name": "stdout",
     "output_type": "stream",
     "text": [
      "533\n"
     ]
    }
   ],
   "source": [
    "import sys\n",
    "sys.set_int_max_str_digits(10000)\n",
    "class Solution:\n",
    "    def addStrings(self, num1: str, num2: str) -> str:\n",
    "        num1=int(num1)\n",
    "        num2=int(num2)\n",
    "        return str(num1+num2)\n",
    "solution=Solution()\n",
    "print(solution.addStrings(\"456\",\"77\"))"
   ]
  },
  {
   "cell_type": "markdown",
   "id": "81f9bafb",
   "metadata": {},
   "source": [
    "## 136. Single Number\n"
   ]
  },
  {
   "cell_type": "code",
   "execution_count": null,
   "id": "0890465c",
   "metadata": {},
   "outputs": [
    {
     "name": "stdout",
     "output_type": "stream",
     "text": [
      "9\n"
     ]
    }
   ],
   "source": [
    "class Solution:\n",
    "    def singleNumber(self, nums: List[int]) -> int:\n",
    "        final=0\n",
    "        for i in nums:\n",
    "            final ^= i\n",
    "        return final\n",
    "solution=Solution()\n",
    "print(solution.singleNumber([2,2,4,4,3,3,9]))"
   ]
  },
  {
   "cell_type": "markdown",
   "id": "27a81723",
   "metadata": {},
   "source": [
    "## 2418. Sort the People"
   ]
  },
  {
   "cell_type": "code",
   "execution_count": 8,
   "id": "58e3838e",
   "metadata": {},
   "outputs": [
    {
     "name": "stdout",
     "output_type": "stream",
     "text": [
      "['Mary', 'Emma', 'John']\n"
     ]
    }
   ],
   "source": [
    "from typing import List\n",
    "class Solution:\n",
    "    def sortPeople(self, names: List[str], heights: List[int]) -> List[str]:\n",
    "        hn = {}\n",
    "        for height, name in zip(heights, names):\n",
    "            hn[height] = name\n",
    "        result = []\n",
    "        for height in sorted(hn.keys(), reverse=True):\n",
    "            result.append(hn[height])\n",
    "        return result\n",
    "\n",
    "solution = Solution()\n",
    "print(solution.sortPeople(names = [\"Mary\",\"John\",\"Emma\"], heights = [180,165,170]))"
   ]
  },
  {
   "cell_type": "markdown",
   "id": "951d6bb4",
   "metadata": {},
   "source": [
    "## 509. Fibonacci Number"
   ]
  },
  {
   "cell_type": "code",
   "execution_count": 12,
   "id": "469cfa05",
   "metadata": {},
   "outputs": [
    {
     "name": "stdout",
     "output_type": "stream",
     "text": [
      "5\n"
     ]
    }
   ],
   "source": [
    "class Solution:\n",
    "    def fib(self, n: int) -> int:\n",
    "        if n<=1:\n",
    "            return n\n",
    "        return (n - 1) + (n - 2)\n",
    "solution=Solution()\n",
    "print(solution.fib(4))"
   ]
  }
 ],
 "metadata": {
  "kernelspec": {
   "display_name": "Python 3",
   "language": "python",
   "name": "python3"
  },
  "language_info": {
   "codemirror_mode": {
    "name": "ipython",
    "version": 3
   },
   "file_extension": ".py",
   "mimetype": "text/x-python",
   "name": "python",
   "nbconvert_exporter": "python",
   "pygments_lexer": "ipython3",
   "version": "3.9.6"
  }
 },
 "nbformat": 4,
 "nbformat_minor": 5
}
